{
 "cells": [
  {
   "cell_type": "code",
   "execution_count": 1,
   "id": "5b08adc7-71f8-49d2-8db9-e93ec0a3ae13",
   "metadata": {},
   "outputs": [],
   "source": [
    "import pickle"
   ]
  },
  {
   "cell_type": "code",
   "execution_count": 2,
   "id": "f0ab67d6-34a6-4c39-be5b-7acefafcf4b8",
   "metadata": {},
   "outputs": [],
   "source": [
    "#load the saved model and use it to make predictions\n",
    "\n",
    "loaded_model = pickle.load(open(\"Salary_data_model.sav\",'rb'))"
   ]
  },
  {
   "cell_type": "code",
   "execution_count": 3,
   "id": "371d9103-7be4-47da-be05-7d73d9af005b",
   "metadata": {},
   "outputs": [
    {
     "name": "stderr",
     "output_type": "stream",
     "text": [
      "E:\\Anaconda\\Lib\\site-packages\\sklearn\\base.py:493: UserWarning: X does not have valid feature names, but LinearRegression was fitted with feature names\n",
      "  warnings.warn(\n"
     ]
    }
   ],
   "source": [
    "#predict the output (target variable) for an input value of 2.9 (feature variable)\n",
    "\n",
    "result = loaded_model.predict([[2.9]])"
   ]
  },
  {
   "cell_type": "code",
   "execution_count": 4,
   "id": "3d7efa0f-6fe2-49ee-90cd-131ca4a1f7a3",
   "metadata": {},
   "outputs": [
    {
     "data": {
      "text/plain": [
       "array([[53922.14907116]])"
      ]
     },
     "execution_count": 4,
     "metadata": {},
     "output_type": "execute_result"
    }
   ],
   "source": [
    "result"
   ]
  },
  {
   "cell_type": "code",
   "execution_count": null,
   "id": "32eadc6d-f1f3-422b-a15c-194cef900033",
   "metadata": {},
   "outputs": [],
   "source": []
  }
 ],
 "metadata": {
  "kernelspec": {
   "display_name": "Python 3 (ipykernel)",
   "language": "python",
   "name": "python3"
  },
  "language_info": {
   "codemirror_mode": {
    "name": "ipython",
    "version": 3
   },
   "file_extension": ".py",
   "mimetype": "text/x-python",
   "name": "python",
   "nbconvert_exporter": "python",
   "pygments_lexer": "ipython3",
   "version": "3.12.7"
  }
 },
 "nbformat": 4,
 "nbformat_minor": 5
}
