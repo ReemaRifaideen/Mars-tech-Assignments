{
 "cells": [
  {
   "cell_type": "code",
   "execution_count": null,
   "id": "8f268e07-9fec-498e-8aa0-932f7d33f7f0",
   "metadata": {},
   "outputs": [],
   "source": [
    "#create a class and function,& list out the items in the list"
   ]
  },
  {
   "cell_type": "code",
   "execution_count": 7,
   "id": "8e920ab3-4828-4702-822e-8bd998b2a307",
   "metadata": {},
   "outputs": [
    {
     "name": "stdout",
     "output_type": "stream",
     "text": [
      "Sub-fields in AI are:\n",
      " Machine Learning\n",
      " Neural Networks\n",
      " Vision\n",
      " Robotics\n",
      " Speech Processing\n",
      " Natural Language Processing\n"
     ]
    }
   ],
   "source": [
    "class SubfieldsInAI:\n",
    "    def Subfields(self):\n",
    "#self is used to access instance variables (attributes) that are defined within the class. This is crucial for maintaining the state of an object.\n",
    "        subfields = [ \"Machine Learning\",\n",
    "                      \"Neural Networks\",\n",
    "                      \"Vision\",\n",
    "                      \"Robotics\",\n",
    "                      \"Speech Processing\",\n",
    "                      \"Natural Language Processing\"]\n",
    "        print(\"Sub-fields in AI are:\")\n",
    "        for subfield in subfields:\n",
    "            print(\"\",subfield)\n",
    "            \n",
    "ai = SubfieldsInAI()\n",
    "ai.Subfields()        "
   ]
  },
  {
   "cell_type": "code",
   "execution_count": null,
   "id": "0ec5ff3d-dad4-431e-99f6-003dc3d28766",
   "metadata": {},
   "outputs": [],
   "source": [
    "#create a function that checks whether the given number is Odd or Even"
   ]
  },
  {
   "cell_type": "code",
   "execution_count": 8,
   "id": "8b8229b4-9c14-4023-96e5-5ef2837b9e94",
   "metadata": {},
   "outputs": [
    {
     "name": "stdin",
     "output_type": "stream",
     "text": [
      "Enter a number: 52452\n"
     ]
    },
    {
     "name": "stdout",
     "output_type": "stream",
     "text": [
      "52452.0 is Even number\n"
     ]
    }
   ],
   "source": [
    "def OddEven() :\n",
    "        num = float(input( \"Enter a number:\"))\n",
    "        if ( num%2 ==0 ) :\n",
    "            print (num, \"is Even number\")  \n",
    "        else : \n",
    "            print (num, \"is Odd number\") \n",
    "OddEven()"
   ]
  },
  {
   "cell_type": "code",
   "execution_count": null,
   "id": "32786301-07d9-40f1-a769-b28ac37c25f9",
   "metadata": {},
   "outputs": [],
   "source": [
    "#create a function that tells eligibility of marriage for male & female according to their age limit like 21 for male & for female"
   ]
  },
  {
   "cell_type": "code",
   "execution_count": 9,
   "id": "cac668cc-72e4-47fd-b09f-cb9bf7880e35",
   "metadata": {},
   "outputs": [
    {
     "name": "stdin",
     "output_type": "stream",
     "text": [
      "Your Gender:  Male\n",
      "\n",
      "Your Age:  20\n"
     ]
    },
    {
     "name": "stdout",
     "output_type": "stream",
     "text": [
      "\n",
      "NOT ELIGIBLE\n"
     ]
    }
   ],
   "source": [
    "class EligibilityForMarriage:\n",
    "    def Eligible(self):\n",
    "\n",
    "        gen = input(\"Your Gender: \").strip().lower()\n",
    "#helps ensure that the input is clean and free of unwanted whitespace\n",
    "        age = float(input(\"\\nYour Age: \"))\n",
    "        \n",
    "        if (gen == \"male\" and age >=21):\n",
    "            print(\"\\nELIGIBLE\")\n",
    "        elif (gen == \"female\" and age >=21):\n",
    "            print(\"\\nELIGIBLE\")\n",
    "        else:\n",
    "            print(\"\\nNOT ELIGIBLE\")\n",
    "\n",
    "check = EligibilityForMarriage()\n",
    "check.Eligible()"
   ]
  },
  {
   "cell_type": "code",
   "execution_count": null,
   "id": "a577cdad-fe05-4c4d-b938-28553c25477d",
   "metadata": {},
   "outputs": [],
   "source": [
    "#calculate the percentage of your 16th rank"
   ]
  },
  {
   "cell_type": "code",
   "execution_count": 2,
   "id": "83e7758d-a858-45bd-9c48-8fd79379defe",
   "metadata": {},
   "outputs": [
    {
     "name": "stdout",
     "output_type": "stream",
     "text": [
      "Subject1= 98\n",
      "\n",
      "Subject2= 87\n",
      "\n",
      "Subject3= 95\n",
      "\n",
      "Subject4= 95\n",
      "\n",
      "Subject5= 93\n",
      "\n",
      "Total= 468\n",
      "\n",
      "Percentage= 93.60000000000001\n"
     ]
    }
   ],
   "source": [
    "class FindPercent:\n",
    "    def percentage(self):\n",
    "        subj1=98\n",
    "        subj2=87\n",
    "        subj3=95\n",
    "        subj4=95\n",
    "        subj5=93\n",
    "        total=subj1 +subj2 +subj3 +subj4 +subj5\n",
    "        percentage=(total/500)*100\n",
    "        print(\"Subject1=\",subj1)\n",
    "        print(\"\\nSubject2=\",subj2)\n",
    "        print(\"\\nSubject3=\",subj3)\n",
    "        print(\"\\nSubject4=\",subj4)\n",
    "        print(\"\\nSubject5=\",subj5)\n",
    "        print(\"\\nTotal=\",total)\n",
    "        print(\"\\nPercentage=\",percentage)\n",
    "\n",
    "check=FindPercent()\n",
    "check.percentage()"
   ]
  },
  {
   "cell_type": "code",
   "execution_count": null,
   "id": "5eeec97e-623c-46b3-8b56-cbb570c8f609",
   "metadata": {},
   "outputs": [],
   "source": [
    "# print area and perimeter of triangle using class and functions"
   ]
  },
  {
   "cell_type": "code",
   "execution_count": 3,
   "id": "ad3fd565-6db5-4a88-b24c-a0fecc01a8b0",
   "metadata": {},
   "outputs": [
    {
     "name": "stdout",
     "output_type": "stream",
     "text": [
      "Height: 32\n",
      "\n",
      "Breadth: 34\n",
      "\n",
      "Area formula:(Height*Breadth)/2\n",
      "\n",
      "Area of Triangle: 544.0\n",
      "\n",
      "Height1: 2\n",
      "\n",
      "Height2: 4\n",
      "\n",
      "Breadth: 4\n",
      "\n",
      "Perimeter formula:Height1+Height2+Breadth\n",
      "\n",
      "Perimeter of Triangle: 10\n"
     ]
    }
   ],
   "source": [
    "class triangle():\n",
    "    def calculate(self):\n",
    "        h=32 #height\n",
    "        b=34 #bredth\n",
    "        area = (h * b) / 2 #(height * bredth)/2\n",
    "        h1=2 #height\n",
    "        h2=4 #height\n",
    "        b3=4 #bredth\n",
    "        perimeter=h1 +h2 +b3 #height+height+bredth\n",
    "        \n",
    "        print(\"Height:\",h)\n",
    "        print(\"\\nBreadth:\",b)\n",
    "        print(\"\\nArea formula:(Height*Breadth)/2\")\n",
    "        print(\"\\nArea of Triangle:\",area)\n",
    "        print(\"\\nHeight1:\",h1)\n",
    "        print(\"\\nHeight2:\",h2)\n",
    "        print(\"\\nBreadth:\",b3)\n",
    "        print(\"\\nPerimeter formula:Height1+Height2+Breadth\")\n",
    "        print(\"\\nPerimeter of Triangle:\",perimeter)\n",
    "\n",
    "check=triangle()\n",
    "check.calculate()"
   ]
  }
 ],
 "metadata": {
  "kernelspec": {
   "display_name": "Python 3 (ipykernel)",
   "language": "python",
   "name": "python3"
  },
  "language_info": {
   "codemirror_mode": {
    "name": "ipython",
    "version": 3
   },
   "file_extension": ".py",
   "mimetype": "text/x-python",
   "name": "python",
   "nbconvert_exporter": "python",
   "pygments_lexer": "ipython3",
   "version": "3.12.7"
  }
 },
 "nbformat": 4,
 "nbformat_minor": 5
}
